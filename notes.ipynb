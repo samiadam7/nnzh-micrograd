{
 "cells": [
  {
   "cell_type": "code",
   "execution_count": 141,
   "metadata": {},
   "outputs": [],
   "source": [
    "import math\n",
    "import numpy as np\n",
    "import matplotlib.pyplot as plt\n",
    "%matplotlib inline"
   ]
  },
  {
   "cell_type": "code",
   "execution_count": 142,
   "metadata": {},
   "outputs": [],
   "source": [
    "def f(x):\n",
    "    return 3*x**2 - 4 * x + 5"
   ]
  },
  {
   "cell_type": "code",
   "execution_count": 143,
   "metadata": {},
   "outputs": [
    {
     "data": {
      "text/plain": [
       "20.0"
      ]
     },
     "execution_count": 143,
     "metadata": {},
     "output_type": "execute_result"
    }
   ],
   "source": [
    "f(3.0)"
   ]
  },
  {
   "cell_type": "code",
   "execution_count": 144,
   "metadata": {},
   "outputs": [
    {
     "data": {
      "text/plain": [
       "[<matplotlib.lines.Line2D at 0x16b63ec10>]"
      ]
     },
     "execution_count": 144,
     "metadata": {},
     "output_type": "execute_result"
    },
    {
     "data": {
      "image/png": "[encoded data removed]",
      "text/plain": [
       "<Figure size 640x480 with 1 Axes>"
      ]
     },
     "metadata": {},
     "output_type": "display_data"
    }
   ],
   "source": [
    "xs = np.arange(-5, 5, 0.25)\n",
    "ys = f(xs)\n",
    "\n",
    "plt.plot(xs, ys)"
   ]
  },
  {
   "cell_type": "code",
   "execution_count": 145,
   "metadata": {},
   "outputs": [
    {
     "data": {
      "text/plain": [
       "14.00300000000243"
      ]
     },
     "execution_count": 145,
     "metadata": {},
     "output_type": "execute_result"
    }
   ],
   "source": [
    "h = 0.001\n",
    "x = 3.0\n",
    "(f(x + h) - f(x)) / h"
   ]
  },
  {
   "cell_type": "code",
   "execution_count": 146,
   "metadata": {},
   "outputs": [
    {
     "name": "stdout",
     "output_type": "stream",
     "text": [
      "d1 4.0\n",
      "d2 3.999699999999999\n",
      "slope -3.000000000010772\n"
     ]
    }
   ],
   "source": [
    "h = 0.0001\n",
    "a = 2.0; b = -3.0; c = 10.0\n",
    "\n",
    "d1 = a*b + c\n",
    "a += h\n",
    "d2 = a*b + c\n",
    "\n",
    "print(\"d1\", d1)\n",
    "print(\"d2\", d2)\n",
    "print(\"slope\", (d2 - d1) / h)"
   ]
  },
  {
   "cell_type": "code",
   "execution_count": 147,
   "metadata": {},
   "outputs": [
    {
     "name": "stdout",
     "output_type": "stream",
     "text": [
      "d1 4.0\n",
      "d2 4.0002\n",
      "slope 2.0000000000042206\n"
     ]
    }
   ],
   "source": [
    "h = 0.0001\n",
    "a = 2.0; b = -3.0; c = 10.0\n",
    "\n",
    "d1 = a*b + c\n",
    "b += h\n",
    "d2 = a*b + c\n",
    "\n",
    "print(\"d1\", d1)\n",
    "print(\"d2\", d2)\n",
    "print(\"slope\", (d2 - d1) / h)"
   ]
  },
  {
   "cell_type": "code",
   "execution_count": 148,
   "metadata": {},
   "outputs": [
    {
     "name": "stdout",
     "output_type": "stream",
     "text": [
      "d1 4.0\n",
      "d2 4.0001\n",
      "slope 0.9999999999976694\n"
     ]
    }
   ],
   "source": [
    "h = 0.0001\n",
    "a = 2.0; b = -3.0; c = 10.0\n",
    "\n",
    "d1 = a*b + c\n",
    "c += h\n",
    "d2 = a*b + c\n",
    "\n",
    "print(\"d1\", d1)\n",
    "print(\"d2\", d2)\n",
    "print(\"slope\", (d2 - d1) / h)"
   ]
  },
  {
   "cell_type": "code",
   "execution_count": 149,
   "metadata": {},
   "outputs": [
    {
     "data": {
      "text/plain": [
       "Value(data=-8.0)"
      ]
     },
     "execution_count": 149,
     "metadata": {},
     "output_type": "execute_result"
    }
   ],
   "source": [
    "class Value:\n",
    "    \n",
    "    def __init__(self, data, _children=(), _op=\"\", label = \"\"):\n",
    "        self.data = data\n",
    "        self.grad = 0.0\n",
    "        self._backward = lambda: None\n",
    "        self._prev = set(_children)\n",
    "        self._op = _op\n",
    "        self.label = label\n",
    "        \n",
    "    def __repr__(self):\n",
    "        return f\"Value(data={self.data})\"\n",
    "    \n",
    "    def __add__(self, other):\n",
    "        other = other if isinstance(other, Value) else Value(other)\n",
    "        out = Value(self.data + other.data, (self, other), \"+\")\n",
    "        \n",
    "        def _backward():\n",
    "             self.grad += 1.0 * out.grad\n",
    "             other.grad += 1.0 * out.grad\n",
    "        out._backward = _backward\n",
    "        \n",
    "        return out\n",
    "    \n",
    "    def __radd__(self, other):\n",
    "        return self + other\n",
    "    \n",
    "    def __neg__(self):\n",
    "        return self * -1\n",
    "    \n",
    "    def __sub__(self, other):\n",
    "        return self + (-other)\n",
    "    \n",
    "    def __rsub__(self, other):\n",
    "        return self + (-other)\n",
    "    def __mul__(self, other):\n",
    "        other = other if isinstance(other, Value) else Value(other)\n",
    "        out = Value(self.data * other.data, (self, other), \"*\")\n",
    "        \n",
    "        def _backward():\n",
    "             self.grad += other.data * out.grad\n",
    "             other.grad += self.data * out.grad\n",
    "        out._backward = _backward\n",
    "        \n",
    "        return out\n",
    "    \n",
    "    def __pow__(self, other):\n",
    "        assert isinstance(other, (int, float))\n",
    "        out = Value(self.data ** other, (self,), f\"**{other}\")\n",
    "        \n",
    "        def backward():\n",
    "            self.grad +=  other * self.data ** (other - 1) * out.grad\n",
    "        out._backward = backward\n",
    "        return out\n",
    "    \n",
    "    def __rmul__(self, other):\n",
    "        return self * other\n",
    "    \n",
    "    def __truediv__(self, other):\n",
    "        return self * other **-1\n",
    "    \n",
    "    def exp(self):\n",
    "        x = self.data\n",
    "        out = Value(math.exp(x), (self,), \"exp\")\n",
    "        \n",
    "        def _backward():\n",
    "            self.grad += out.data * out.grad\n",
    "        out._backward = _backward\n",
    "\n",
    "        return out\n",
    "    \n",
    "    def tanh(self):\n",
    "        x = self.data\n",
    "        t = np.tanh(x)\n",
    "        out = Value(t, (self,), \"tanh\")\n",
    "        \n",
    "        def _backward():\n",
    "             self.grad = (1 - t**2) * out.grad\n",
    "        out._backward = _backward\n",
    "        \n",
    "        return out\n",
    "\n",
    "    def backward(self):\n",
    "        \n",
    "        topo = []\n",
    "        visited = set()\n",
    "        def build_topo(v):\n",
    "            if v not in visited:\n",
    "                visited.add(v)\n",
    "                for child in v._prev:\n",
    "                    build_topo(child)\n",
    "                topo.append(v)\n",
    "        \n",
    "        build_topo(self)\n",
    "        \n",
    "        self.grad = 1.0\n",
    "        for node in reversed(topo):\n",
    "            node._backward()\n",
    "        \n",
    "a = Value(2.0, label= \"a\")\n",
    "b = Value(-3.0, label= \"b\")\n",
    "c = Value(10.0, label= \"c\")\n",
    "e = a * b; e.label = \"e\"\n",
    "d = e + c ; d.label = \"d\"\n",
    "f = Value(-2.0, label= \"f\")\n",
    "L = d * f; L.label = \"L\"; L.grad = 1.0\n",
    "L"
   ]
  },
  {
   "cell_type": "code",
   "execution_count": 150,
   "metadata": {},
   "outputs": [],
   "source": [
    "import torch\n",
    "\n",
    "class Neuron:\n",
    "    \n",
    "    def __init__(self, nin):\n",
    "        self.w = [Value(np.random.uniform(-1, 1)) for _ in range(nin)]\n",
    "        self.b = Value(np.random.uniform(-1,1))\n",
    "        \n",
    "    def __call__(self, x):\n",
    "        act = sum((wi * xi for wi, xi in zip(self.w, x)), self.b)\n",
    "        out = act.tanh()\n",
    "        return out\n",
    "    \n",
    "    def parameters(self):\n",
    "        return self.w + [self.b]\n",
    "    \n",
    "class Layer:\n",
    "    \n",
    "    def __init__(self, nin, nout):\n",
    "        self.neurons = [Neuron(nin) for _ in range(nout)]\n",
    "        \n",
    "    def __call__(self, x):\n",
    "        outs = [n(x) for n in self.neurons]\n",
    "        return outs[0] if len(outs) == 1 else outs\n",
    "\n",
    "    def parameters(self):\n",
    "        return [p for n in self.neurons for p in n.parameters()]\n",
    "class MLP:\n",
    "    \n",
    "    def __init__(self, nin, nouts):\n",
    "        sz = [nin] + nouts\n",
    "        self.layers = [Layer(sz[i], sz[i+ 1] ) for i in range(len(nouts))]\n",
    "\n",
    "    def __call__(self, x):\n",
    "        for l in self.layers:\n",
    "            x = l(x)\n",
    "        return x\n",
    "    \n",
    "    def parameters(self):\n",
    "        return [p for layer in self.layers for p in layer.parameters()]"
   ]
  },
  {
   "cell_type": "code",
   "execution_count": 151,
   "metadata": {},
   "outputs": [
    {
     "data": {
      "text/plain": [
       "[Value(data=0.5292655634599814),\n",
       " Value(data=0.8490024898327718),\n",
       " Value(data=0.6580967818390646),\n",
       " Value(data=0.6650552079790472)]"
      ]
     },
     "execution_count": 151,
     "metadata": {},
     "output_type": "execute_result"
    }
   ],
   "source": [
    "xs = [\n",
    "    [2.0, 3.0, -1.0],\n",
    "    [3.0, -1.0, 0.5],\n",
    "    [0.5, 1.0, 1.0],\n",
    "    [1.0, 1.0, -1.0]\n",
    "]\n",
    "\n",
    "ys = [1.0, -1.0, -1.0, 1.0]\n",
    "n = MLP(3, [4,4,1])\n",
    "y_pred = [n(x) for x in xs]\n",
    "y_pred"
   ]
  },
  {
   "cell_type": "code",
   "execution_count": 152,
   "metadata": {},
   "outputs": [
    {
     "name": "stdout",
     "output_type": "stream",
     "text": [
      "Iteration 1: Loss = 6.502\n",
      "Iteration 2: Loss = 6.346\n",
      "Iteration 3: Loss = 6.166\n",
      "Iteration 4: Loss = 5.961\n",
      "Iteration 5: Loss = 5.723\n",
      "Iteration 6: Loss = 5.449\n",
      "Iteration 7: Loss = 5.135\n",
      "Iteration 8: Loss = 4.781\n",
      "Iteration 9: Loss = 4.395\n",
      "Iteration 10: Loss = 3.996\n",
      "Iteration 11: Loss = 3.611\n",
      "Iteration 12: Loss = 3.264\n",
      "Iteration 13: Loss = 2.966\n",
      "Iteration 14: Loss = 2.712\n",
      "Iteration 15: Loss = 2.489\n",
      "Iteration 16: Loss = 2.289\n",
      "Iteration 17: Loss = 2.103\n",
      "Iteration 18: Loss = 1.927\n",
      "Iteration 19: Loss = 1.759\n",
      "Iteration 20: Loss = 1.598\n",
      "Iteration 21: Loss = 1.446\n",
      "Iteration 22: Loss = 1.303\n",
      "Iteration 23: Loss = 1.172\n",
      "Iteration 24: Loss = 1.052\n",
      "Iteration 25: Loss = 0.945\n",
      "Iteration 26: Loss = 0.851\n",
      "Iteration 27: Loss = 0.767\n",
      "Iteration 28: Loss = 0.694\n",
      "Iteration 29: Loss = 0.630\n",
      "Iteration 30: Loss = 0.573\n",
      "Iteration 31: Loss = 0.524\n",
      "Iteration 32: Loss = 0.481\n",
      "Iteration 33: Loss = 0.442\n",
      "Iteration 34: Loss = 0.409\n",
      "Iteration 35: Loss = 0.379\n",
      "Iteration 36: Loss = 0.352\n",
      "Iteration 37: Loss = 0.328\n",
      "Iteration 38: Loss = 0.307\n",
      "Iteration 39: Loss = 0.288\n",
      "Iteration 40: Loss = 0.271\n",
      "Iteration 41: Loss = 0.255\n",
      "Iteration 42: Loss = 0.241\n",
      "Iteration 43: Loss = 0.228\n",
      "Iteration 44: Loss = 0.216\n",
      "Iteration 45: Loss = 0.205\n",
      "Iteration 46: Loss = 0.195\n",
      "Iteration 47: Loss = 0.186\n",
      "Iteration 48: Loss = 0.178\n",
      "Iteration 49: Loss = 0.170\n",
      "Iteration 50: Loss = 0.163\n",
      "Iteration 51: Loss = 0.156\n",
      "Iteration 52: Loss = 0.150\n",
      "Iteration 53: Loss = 0.144\n",
      "Iteration 54: Loss = 0.139\n",
      "Iteration 55: Loss = 0.134\n",
      "Iteration 56: Loss = 0.129\n",
      "Iteration 57: Loss = 0.124\n",
      "Iteration 58: Loss = 0.120\n",
      "Iteration 59: Loss = 0.116\n",
      "Iteration 60: Loss = 0.112\n",
      "Iteration 61: Loss = 0.109\n",
      "Iteration 62: Loss = 0.106\n",
      "Iteration 63: Loss = 0.102\n",
      "Iteration 64: Loss = 0.099\n",
      "Iteration 65: Loss = 0.097\n",
      "Iteration 66: Loss = 0.094\n",
      "Iteration 67: Loss = 0.091\n",
      "Iteration 68: Loss = 0.089\n",
      "Iteration 69: Loss = 0.087\n",
      "Iteration 70: Loss = 0.084\n",
      "Iteration 71: Loss = 0.082\n",
      "Iteration 72: Loss = 0.080\n",
      "Iteration 73: Loss = 0.078\n",
      "Iteration 74: Loss = 0.076\n",
      "Iteration 75: Loss = 0.075\n",
      "Iteration 76: Loss = 0.073\n",
      "Iteration 77: Loss = 0.071\n",
      "Iteration 78: Loss = 0.070\n",
      "Iteration 79: Loss = 0.068\n",
      "Iteration 80: Loss = 0.067\n",
      "Iteration 81: Loss = 0.065\n",
      "Iteration 82: Loss = 0.064\n",
      "Iteration 83: Loss = 0.063\n",
      "Iteration 84: Loss = 0.062\n",
      "Iteration 85: Loss = 0.060\n",
      "Iteration 86: Loss = 0.059\n",
      "Iteration 87: Loss = 0.058\n",
      "Iteration 88: Loss = 0.057\n",
      "Iteration 89: Loss = 0.056\n",
      "Iteration 90: Loss = 0.055\n",
      "Iteration 91: Loss = 0.054\n",
      "Iteration 92: Loss = 0.053\n",
      "Iteration 93: Loss = 0.052\n",
      "Iteration 94: Loss = 0.051\n",
      "Iteration 95: Loss = 0.050\n",
      "Iteration 96: Loss = 0.050\n",
      "Iteration 97: Loss = 0.049\n",
      "Iteration 98: Loss = 0.048\n",
      "Iteration 99: Loss = 0.047\n",
      "Iteration 100: Loss = 0.046\n",
      "[Value(data=0.9639660133611182), Value(data=-0.9005988570941433), Value(data=-0.8628620860570637), Value(data=0.8716469540702403)]\n"
     ]
    }
   ],
   "source": [
    "def loss_fctn(true, pred):\n",
    "    return sum([(t - p) ** 2 for t, p in zip(true, pred)])\n",
    "\n",
    "def grad_desc(model, xs, ys, iter, step):\n",
    "    for _ in range(iter):\n",
    "        y_pred = [model(x) for x in xs]\n",
    "        loss = loss_fctn(ys, y_pred)\n",
    "        for p in model.parameters():\n",
    "            p.grad = 0\n",
    "        loss.backward()\n",
    "        \n",
    "        for p in model.parameters():\n",
    "            p.data += -p.grad * step\n",
    "            \n",
    "        print(f\"Iteration {_ + 1}: Loss = {loss.data:0.3f}\")\n",
    "    \n",
    "    print(y_pred)\n",
    "grad_desc(n, xs, ys, 100, 0.01)"
   ]
  },
  {
   "cell_type": "code",
   "execution_count": null,
   "metadata": {},
   "outputs": [],
   "source": []
  }
 ],
 "metadata": {
  "kernelspec": {
   "display_name": "Python 3",
   "language": "python",
   "name": "python3"
  },
  "language_info": {
   "codemirror_mode": {
    "name": "ipython",
    "version": 3
   },
   "file_extension": ".py",
   "mimetype": "text/x-python",
   "name": "python",
   "nbconvert_exporter": "python",
   "pygments_lexer": "ipython3",
   "version": "3.11.3"
  }
 },
 "nbformat": 4,
 "nbformat_minor": 2
}
